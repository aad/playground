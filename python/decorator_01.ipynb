{
 "cells": [
  {
   "cell_type": "markdown",
   "metadata": {},
   "source": [
    "# Underetanding Python decorator"
   ]
  },
  {
   "cell_type": "markdown",
   "metadata": {},
   "source": [
    "## Function"
   ]
  },
  {
   "cell_type": "markdown",
   "metadata": {},
   "source": [
    "### Functions as First-Class Objects"
   ]
  },
  {
   "cell_type": "code",
   "execution_count": 1,
   "metadata": {},
   "outputs": [
    {
     "name": "stdout",
     "output_type": "stream",
     "text": [
      "foo\n"
     ]
    }
   ],
   "source": [
    "def foo(s):\n",
    "    return s\n",
    "    \n",
    "def bar(foo):\n",
    "    def new_func():\n",
    "        pass\n",
    "    new_func()\n",
    "    return foo\n",
    "\n",
    "# result = bar(foo(\"foo\"))\n",
    "# print(result)\n",
    "\n",
    "result = bar(foo)\n",
    "print(result(\"foo\"))"
   ]
  },
  {
   "cell_type": "markdown",
   "metadata": {},
   "source": [
    "### Closures in Python"
   ]
  },
  {
   "cell_type": "code",
   "execution_count": 2,
   "metadata": {},
   "outputs": [
    {
     "name": "stdout",
     "output_type": "stream",
     "text": [
      "Hi: foo\n",
      "bar is gone\n",
      "Hi: long live foo\n",
      "('prefix',)\n",
      "Hi\n"
     ]
    }
   ],
   "source": [
    "def bar():\n",
    "    prefix = \"Hi\"\n",
    "    def new_func(s):\n",
    "        return f\"{prefix}: {s}\"\n",
    "    return new_func\n",
    "\n",
    "result = bar()\n",
    "print(result(\"foo\"))\n",
    "\n",
    "del bar\n",
    "try:\n",
    "    result = bar(foo)\n",
    "except NameError:\n",
    "    print(\"bar is gone\")\n",
    "print(result(\"long live foo\"))\n",
    "\n",
    "print(result.__code__.co_freevars)\n",
    "print(result.__closure__[0].cell_contents)\n"
   ]
  },
  {
   "cell_type": "code",
   "execution_count": 3,
   "metadata": {},
   "outputs": [
    {
     "name": "stdout",
     "output_type": "stream",
     "text": [
      "Hi: foo\n",
      "Hey: bar\n",
      "('grettings',)\n",
      "Hi\n",
      "('grettings',)\n",
      "Hi\n"
     ]
    }
   ],
   "source": [
    "def bar(grettings):\n",
    "    def new_func(s):\n",
    "        return f\"{grettings}: {s}\"\n",
    "    return new_func\n",
    "\n",
    "warpped_func1 = bar(\"Hi\")\n",
    "warpped_func2 = bar(\"Hey\")\n",
    "print(warpped_func1(\"foo\"))\n",
    "print(warpped_func2(\"bar\"))\n",
    "\n",
    "print(warpped_func1.__code__.co_freevars)\n",
    "print(warpped_func1.__closure__[0].cell_contents)\n",
    "\n",
    "print(warpped_func1.__code__.co_freevars)\n",
    "print(warpped_func1.__closure__[0].cell_contents)"
   ]
  },
  {
   "cell_type": "markdown",
   "metadata": {},
   "source": [
    "## Decorator"
   ]
  },
  {
   "cell_type": "markdown",
   "metadata": {},
   "source": [
    "### Basic decorator"
   ]
  },
  {
   "cell_type": "code",
   "execution_count": 4,
   "metadata": {},
   "outputs": [
    {
     "name": "stdout",
     "output_type": "stream",
     "text": [
      "Entering foo\n",
      "Exiting foo\n",
      "Entering bar\n",
      "Exiting bar\n",
      "this function just pass a string\n",
      "None\n"
     ]
    }
   ],
   "source": [
    "def foo(s):\n",
    "    \"\"\"this function just pass a string\"\"\"\n",
    "    return s\n",
    "    \n",
    "def verbose(func):\n",
    "    def wrapper(s):\n",
    "        print(f\"Entering {func.__name__}\")\n",
    "        func(s)\n",
    "        print(f\"Exiting {func.__name__}\")\n",
    "    return wrapper\n",
    "\n",
    "warpped_func1 = verbose(foo)\n",
    "warpped_func1(\"foo\")\n",
    "\n",
    "@verbose\n",
    "def bar(s):\n",
    "    \"\"\"this function just pass a string\"\"\"\n",
    "    return s\n",
    "\n",
    "bar(\"bar\")\n",
    "print(foo.__doc__)\n",
    "print(bar.__doc__)"
   ]
  },
  {
   "cell_type": "markdown",
   "metadata": {},
   "source": [
    "### Update a wrapper function to look like the wrapped function\n",
    "\n",
    "ref: https://github.com/python/cpython/blob/v3.8.2/Lib/functools.py#L63"
   ]
  },
  {
   "cell_type": "code",
   "execution_count": 5,
   "metadata": {},
   "outputs": [
    {
     "name": "stdout",
     "output_type": "stream",
     "text": [
      "this function just pass a string\n",
      "Entering bar\n",
      "Exiting bar\n",
      "None\n"
     ]
    }
   ],
   "source": [
    "from functools import wraps\n",
    "\n",
    "def verbose(func):\n",
    "    @wraps(func)\n",
    "    def wrapper(s):\n",
    "        print(f\"Entering {func.__name__}\")\n",
    "        func(s)\n",
    "        print(f\"Exiting {func.__name__}\")\n",
    "    return wrapper\n",
    "\n",
    "@verbose\n",
    "def bar(s):\n",
    "    \"\"\"this function just pass a string\"\"\"\n",
    "    return s\n",
    "\n",
    "print(bar.__doc__)\n",
    "\n",
    "result = bar(\"bar\")\n",
    "print(result)"
   ]
  },
  {
   "cell_type": "markdown",
   "metadata": {},
   "source": [
    "### Return"
   ]
  },
  {
   "cell_type": "code",
   "execution_count": 6,
   "metadata": {},
   "outputs": [
    {
     "name": "stdout",
     "output_type": "stream",
     "text": [
      "Entering bar\n",
      "bar\n"
     ]
    }
   ],
   "source": [
    "from functools import wraps\n",
    "\n",
    "def verbose(func):\n",
    "    @wraps(func)\n",
    "    def wrapper(s):\n",
    "        print(f\"Entering {func.__name__}\")\n",
    "        return func(s)\n",
    "        print(f\"Exiting {func.__name__}\")\n",
    "    return wrapper\n",
    "\n",
    "@verbose\n",
    "def bar(s):\n",
    "    \"\"\"this function just pass a string\"\"\"\n",
    "    return s\n",
    "\n",
    "result = bar(\"bar\")\n",
    "print(result)"
   ]
  },
  {
   "cell_type": "code",
   "execution_count": 7,
   "metadata": {},
   "outputs": [
    {
     "name": "stdout",
     "output_type": "stream",
     "text": [
      "Entering bar\n",
      "Exiting bar\n",
      "bar\n"
     ]
    }
   ],
   "source": [
    "from functools import wraps\n",
    "\n",
    "def verbose(func):\n",
    "    @wraps(func)\n",
    "    def wrapper(s):\n",
    "        print(f\"Entering {func.__name__}\")\n",
    "        original_result = func(s)\n",
    "        print(f\"Exiting {func.__name__}\")\n",
    "        return original_result\n",
    "    return wrapper\n",
    "\n",
    "@verbose\n",
    "def bar(s):\n",
    "    \"\"\"this function just pass a string\"\"\"\n",
    "    return s\n",
    "\n",
    "result = bar(\"bar\")\n",
    "print(result)"
   ]
  },
  {
   "cell_type": "markdown",
   "metadata": {},
   "source": [
    "### Parameters"
   ]
  },
  {
   "cell_type": "code",
   "execution_count": 8,
   "metadata": {},
   "outputs": [
    {
     "name": "stdout",
     "output_type": "stream",
     "text": [
      "Entering bar\n",
      "Exiting bar\n"
     ]
    }
   ],
   "source": [
    "from functools import wraps\n",
    "\n",
    "def verbose(func):\n",
    "    @wraps(func)\n",
    "    def wrapper(s):\n",
    "        print(f\"Entering {func.__name__}\")\n",
    "        original_result = func(s)\n",
    "        print(f\"Exiting {func.__name__}\")\n",
    "        return original_result\n",
    "    return wrapper\n",
    "\n",
    "@verbose\n",
    "def foo(x, y):\n",
    "    \"\"\"this function just pass two strings\"\"\"\n",
    "    return x, y\n",
    "\n",
    "@verbose\n",
    "def bar(s):\n",
    "    \"\"\"this function just pass a string\"\"\"\n",
    "    return s\n",
    "\n",
    "result1 = bar(\"bar\")\n",
    "# TypeError: new_func() takes 1 positional argument but 2 were given\n",
    "# result2 = foo(\"foo\", \"bar\")"
   ]
  },
  {
   "cell_type": "code",
   "execution_count": 9,
   "metadata": {
    "scrolled": true
   },
   "outputs": [
    {
     "name": "stdout",
     "output_type": "stream",
     "text": [
      "Entering bar\n",
      "Exiting bar\n",
      "Entering foo\n",
      "Exiting foo\n",
      "Entering fool\n",
      "Exiting fool\n",
      "('foo', 'bar')/{'keyword1': 'xyz', 'keyword2': 'abc'}\n"
     ]
    }
   ],
   "source": [
    "from functools import wraps\n",
    "\n",
    "def verbose(func):\n",
    "    @wraps(func)\n",
    "    def wrapper(*args, **kwargs):\n",
    "        print(f\"Entering {func.__name__}\")\n",
    "        original_result = func(*args, **kwargs)\n",
    "        print(f\"Exiting {func.__name__}\")\n",
    "        return original_result\n",
    "    return wrapper\n",
    "\n",
    "@verbose\n",
    "def foo(x, y):\n",
    "    \"\"\"this function just pass two strings\"\"\"\n",
    "    return x, y\n",
    "\n",
    "@verbose\n",
    "def bar(s):\n",
    "    \"\"\"this function just pass a string\"\"\"\n",
    "    return s\n",
    "\n",
    "@verbose\n",
    "def fool(*args, **kwargs):\n",
    "    \"\"\"this function just pass two strings\"\"\"\n",
    "    return f\"{args}/{kwargs}\"\n",
    "\n",
    "result1 = bar(\"bar\")\n",
    "result2 = foo(\"foo\", \"bar\")\n",
    "# positional argument follows keyword argument\n",
    "result3 = fool(\"foo\", \"bar\", keyword1=\"xyz\", keyword2=\"abc\")\n",
    "print(result3)"
   ]
  },
  {
   "cell_type": "markdown",
   "metadata": {},
   "source": [
    "### Class"
   ]
  },
  {
   "cell_type": "code",
   "execution_count": 10,
   "metadata": {},
   "outputs": [
    {
     "name": "stdout",
     "output_type": "stream",
     "text": [
      "Entering fool\n",
      "Exiting fool\n",
      "('foo', 'bar')/{'keyword1': 'xyz', 'keyword2': 'abc'}\n",
      "True/False\n"
     ]
    }
   ],
   "source": [
    "class Verbose(object):\n",
    "    def __init__(self, f):\n",
    "        self.f = f\n",
    "\n",
    "    def __call__(self, *args, **kwargs):\n",
    "        print(f\"Entering {self.f.__name__}\")\n",
    "        original_result = self.f(*args, **kwargs)\n",
    "        print(f\"Exiting {self.f.__name__}\")\n",
    "        return original_result\n",
    "\n",
    "@Verbose\n",
    "def fool(*args, **kwargs):\n",
    "    \"\"\"this function just pass two strings\"\"\"\n",
    "    return f\"{args}/{kwargs}\"\n",
    "\n",
    "result3 = fool(\"foo\", \"bar\", keyword1=\"xyz\", keyword2=\"abc\")\n",
    "print(result3)\n",
    "\n",
    "print(f\"{callable(Verbose)}/{callable('s')}\")"
   ]
  },
  {
   "cell_type": "code",
   "execution_count": 11,
   "metadata": {
    "scrolled": true
   },
   "outputs": [
    {
     "name": "stdout",
     "output_type": "stream",
     "text": [
      "Entering fool\n",
      "Exiting fool\n",
      "('foo', 'bar')/{'keyword1': 'xyz', 'keyword2': 'abc'}\n",
      "True/False\n"
     ]
    }
   ],
   "source": [
    "def verbose(wrapped):\n",
    "    return Verbose(wrapped)\n",
    "\n",
    "class Verbose():\n",
    "    def __init__(self, f):\n",
    "        self.f = f\n",
    "\n",
    "    def __call__(self, *args, **kwargs):\n",
    "        print(f\"Entering {self.f.__name__}\")\n",
    "        original_result = self.f(*args, **kwargs)\n",
    "        print(f\"Exiting {self.f.__name__}\")\n",
    "        return original_result\n",
    "\n",
    "@verbose\n",
    "def fool(*args, **kwargs):\n",
    "    \"\"\"this function just pass two strings\"\"\"\n",
    "    return f\"{args}/{kwargs}\"\n",
    "\n",
    "result3 = fool(\"foo\", \"bar\", keyword1=\"xyz\", keyword2=\"abc\")\n",
    "print(result3)\n",
    "\n",
    "print(f\"{callable(Verbose)}/{callable('s')}\")"
   ]
  },
  {
   "cell_type": "code",
   "execution_count": 12,
   "metadata": {
    "scrolled": true
   },
   "outputs": [
    {
     "name": "stderr",
     "output_type": "stream",
     "text": [
      "INFO:Class1:Init...\n",
      "INFO:Class1:metod1...\n",
      "INFO:Class2:Init...\n",
      "INFO:Class2:metod1...\n"
     ]
    }
   ],
   "source": [
    "import logging\n",
    "import sys\n",
    "\n",
    "logging.basicConfig(level=logging.INFO)\n",
    "\n",
    "class Class1:\n",
    "    def __init__(self):\n",
    "        self.logger = logging.getLogger(self.__class__.__qualname__)\n",
    "        # self.logger.addHandler(logging.StreamHandler(stream=sys.stdout))\n",
    "        self.logger.info(\"Init...\")\n",
    "    def method1(self):\n",
    "        self.logger.info(\"metod1...\")\n",
    "\n",
    "class Class2:\n",
    "    def __init__(self):\n",
    "        self.logger = logging.getLogger(self.__class__.__qualname__)\n",
    "        # self.logger.addHandler(logging.StreamHandler(stream=sys.stdout))\n",
    "        self.logger.info(\"Init...\")\n",
    "    def method1(self):\n",
    "        self.logger.info(\"metod1...\")\n",
    "\n",
    "class1 = Class1()\n",
    "class1.method1()\n",
    "class2 = Class2()\n",
    "class2.method1()"
   ]
  },
  {
   "cell_type": "code",
   "execution_count": 13,
   "metadata": {},
   "outputs": [
    {
     "name": "stderr",
     "output_type": "stream",
     "text": [
      "INFO:Class1:Init...\n",
      "INFO:Class1:metod1...\n",
      "INFO:Class2:Init...\n",
      "INFO:Class2:metod1...\n"
     ]
    }
   ],
   "source": [
    "import logging\n",
    "import sys\n",
    "\n",
    "logging.basicConfig(level=logging.INFO)\n",
    "\n",
    "def logged(class_):\n",
    "    class_.logger = logging.getLogger(class_.__qualname__)\n",
    "    # class_.logger.addHandler(logging.StreamHandler(stream=sys.stdout))\n",
    "    return class_\n",
    "\n",
    "@logged\n",
    "class Class1:\n",
    "    def __init__(self):\n",
    "        self.logger.info(\"Init...\")\n",
    "    def method1(self):\n",
    "        self.logger.info(\"metod1...\")\n",
    "\n",
    "@logged\n",
    "class Class2:\n",
    "    def __init__(self):\n",
    "        self.logger.info(\"Init...\")\n",
    "    def method1(self):\n",
    "        self.logger.info(\"metod1...\")\n",
    "\n",
    "class1 = Class1()\n",
    "class1.method1()\n",
    "class2 = Class2()\n",
    "class2.method1()"
   ]
  }
 ],
 "metadata": {
  "kernelspec": {
   "display_name": "Python 3",
   "language": "python",
   "name": "python3"
  },
  "language_info": {
   "codemirror_mode": {
    "name": "ipython",
    "version": 3
   },
   "file_extension": ".py",
   "mimetype": "text/x-python",
   "name": "python",
   "nbconvert_exporter": "python",
   "pygments_lexer": "ipython3",
   "version": "3.8.2"
  }
 },
 "nbformat": 4,
 "nbformat_minor": 4
}
